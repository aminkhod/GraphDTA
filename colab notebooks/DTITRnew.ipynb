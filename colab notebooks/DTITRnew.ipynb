{
  "nbformat": 4,
  "nbformat_minor": 0,
  "metadata": {
    "colab": {
      "provenance": [],
      "gpuType": "T4"
    },
    "kernelspec": {
      "name": "python3",
      "display_name": "Python 3"
    },
    "language_info": {
      "name": "python"
    },
    "accelerator": "GPU"
  },
  "cells": [
    {
      "cell_type": "code",
      "execution_count": null,
      "metadata": {
        "colab": {
          "base_uri": "https://localhost:8080/"
        },
        "id": "im3GX4_DE0Dd",
        "outputId": "246d3388-0247-47a5-98dd-323c5d8bf24c"
      },
      "outputs": [
        {
          "output_type": "stream",
          "name": "stdout",
          "text": [
            "Drive already mounted at /content/drive; to attempt to forcibly remount, call drive.mount(\"/content/drive\", force_remount=True).\n"
          ]
        }
      ],
      "source": [
        "from google.colab import drive\n",
        "drive.mount('/content/drive')"
      ]
    },
    {
      "cell_type": "code",
      "source": [
        "!ls"
      ],
      "metadata": {
        "colab": {
          "base_uri": "https://localhost:8080/"
        },
        "id": "JR93hPJ7Kf3q",
        "outputId": "07be5a2f-80a6-4b5e-aa0f-2ebabfa0f8d2"
      },
      "execution_count": null,
      "outputs": [
        {
          "output_type": "stream",
          "name": "stdout",
          "text": [
            "checkpoints  data  dictionary  figures\tlogs  model  README.md\tsource\n"
          ]
        }
      ]
    },
    {
      "cell_type": "code",
      "source": [
        "!ls drive"
      ],
      "metadata": {
        "colab": {
          "base_uri": "https://localhost:8080/"
        },
        "id": "TWidIgIYi0yB",
        "outputId": "0f61dffe-c0de-44b4-ed74-671d8fad1700"
      },
      "execution_count": null,
      "outputs": [
        {
          "output_type": "stream",
          "name": "stdout",
          "text": [
            "ls: cannot access 'drive': No such file or directory\n"
          ]
        }
      ]
    },
    {
      "cell_type": "code",
      "source": [
        "%cd '/content/drive/MyDrive/DTITR-main'"
      ],
      "metadata": {
        "colab": {
          "base_uri": "https://localhost:8080/"
        },
        "id": "MsjufnBhjCbL",
        "outputId": "701d1999-af0a-49c8-8b64-5b220c3ed901"
      },
      "execution_count": null,
      "outputs": [
        {
          "output_type": "stream",
          "name": "stdout",
          "text": [
            "/content/drive/MyDrive/DTITR-main\n"
          ]
        }
      ]
    },
    {
      "cell_type": "code",
      "source": [
        "!pip install Tensorflow"
      ],
      "metadata": {
        "id": "Metl2mxHFNiC"
      },
      "execution_count": null,
      "outputs": []
    },
    {
      "cell_type": "code",
      "source": [
        "!pip install Numpy Pandas Scikit-learn\n",
        "!pip install Matplotlib Seaborn\n",
        "!pip install subword_nmt periodictable tensorflow_addons\n"
      ],
      "metadata": {
        "id": "UYbcgn2GFNeV"
      },
      "execution_count": null,
      "outputs": []
    },
    {
      "cell_type": "code",
      "source": [
        "import itertools\n",
        "import glob\n",
        "import json"
      ],
      "metadata": {
        "id": "SvrnzXGLFNan"
      },
      "execution_count": null,
      "outputs": []
    },
    {
      "cell_type": "code",
      "source": [
        "!python3 \"/content/drive/MyDrive/DTITR-main/source/dtitr_model.py\" --option Train --num_epochs 500 --batch_dim 32 --prot_transformer_depth 3 --smiles_transformer_depth 3 --cross_block_depth 1 --prot_transformer_heads 4 --smiles_transformer_heads 4 --cross_block_heads 4 --prot_parameter_sharing '' --prot_dim_k 0 --prot_ff_dim 512 --smiles_ff_dim 512 --d_model 128 --dropout_rate 0.1 --dense_atv_fun gelu --out_mlp_depth 3 --out_mlp_hdim 512 512 512 --optimizer_fn radam 1e-04 0.9 0.999 1e-08 1e-05"
      ],
      "metadata": {
        "colab": {
          "base_uri": "https://localhost:8080/"
        },
        "id": "zs0Oq18kJrPi",
        "outputId": "c52ebb58-77a3-4b5e-e7d8-5b4f31390d22"
      },
      "execution_count": null,
      "outputs": [
        {
          "output_type": "stream",
          "name": "stdout",
          "text": [
            "2023-07-16 18:09:57.268602: I tensorflow/core/platform/cpu_feature_guard.cc:182] This TensorFlow binary is optimized to use available CPU instructions in performance-critical operations.\n",
            "To enable the following instructions: AVX2 FMA, in other operations, rebuild TensorFlow with the appropriate compiler flags.\n",
            "2023-07-16 18:09:58.242230: W tensorflow/compiler/tf2tensorrt/utils/py_utils.cc:38] TF-TRT Warning: Could not find TensorRT\n",
            "/usr/local/lib/python3.10/dist-packages/tensorflow_addons/utils/tfa_eol_msg.py:23: UserWarning: \n",
            "\n",
            "TensorFlow Addons (TFA) has ended development and introduction of new features.\n",
            "TFA has entered a minimal maintenance and release mode until a planned end of life in May 2024.\n",
            "Please modify downstream libraries to take dependencies from other repositories in our TensorFlow community (e.g. Keras, Keras-CV, and Keras-NLP). \n",
            "\n",
            "For more information see: https://github.com/tensorflow/addons/issues/2807 \n",
            "\n",
            "  warnings.warn(\n",
            "2023-07-16 18:10:01.028893: I tensorflow/compiler/xla/stream_executor/cuda/cuda_gpu_executor.cc:996] successful NUMA node read from SysFS had negative value (-1), but there must be at least one NUMA node, so returning NUMA node zero. See more at https://github.com/torvalds/linux/blob/v6.0/Documentation/ABI/testing/sysfs-bus-pci#L344-L355\n",
            "2023-07-16 18:10:01.066872: I tensorflow/compiler/xla/stream_executor/cuda/cuda_gpu_executor.cc:996] successful NUMA node read from SysFS had negative value (-1), but there must be at least one NUMA node, so returning NUMA node zero. See more at https://github.com/torvalds/linux/blob/v6.0/Documentation/ABI/testing/sysfs-bus-pci#L344-L355\n",
            "2023-07-16 18:10:01.067220: I tensorflow/compiler/xla/stream_executor/cuda/cuda_gpu_executor.cc:996] successful NUMA node read from SysFS had negative value (-1), but there must be at least one NUMA node, so returning NUMA node zero. See more at https://github.com/torvalds/linux/blob/v6.0/Documentation/ABI/testing/sysfs-bus-pci#L344-L355\n",
            "------------------------//------------------------\n",
            "Namespace(option='Train', data_path={'data': '/content/drive/MyDrive/DTITR-main/data/davis/dataset/davis_dataset_processed.csv', 'prot_dic': '/content/drive/MyDrive/DTITR-main/dictionary/davis_prot_dictionary.txt', 'smiles_dic': '/content/drive/MyDrive/DTITR-main/dictionary/davis_smiles_dictionary.txt', 'clusters': ['/content/drive/MyDrive/DTITR-main/data/davis/clusters/train_cluster_3.csv', '/content/drive/MyDrive/DTITR-main/data/davis/clusters/test_cluster.csv', '/content/drive/MyDrive/DTITR-main/data/davis/clusters/train_cluster_0.csv', '/content/drive/MyDrive/DTITR-main/data/davis/clusters/train_cluster_2.csv', '/content/drive/MyDrive/DTITR-main/data/davis/clusters/train_cluster_1.csv', '/content/drive/MyDrive/DTITR-main/data/davis/clusters/train_cluster_4.csv'], 'prot_bpe': ['/content/drive/MyDrive/DTITR-main/dictionary/protein_codes_uniprot.txt', '/content/drive/MyDrive/DTITR-main/dictionary/subword_units_map_uniprot.csv'], 'smiles_bpe': ['/content/drive/MyDrive/DTITR-main/dictionary/drug_codes_chembl.txt', '/content/drive/MyDrive/DTITR-main/dictionary/subword_units_map_chembl.csv']}, pos_enc_option=True, bpe_option=[True, False], protein_len=1400, protein_bpe_len=556, protein_dict_len=20, protein_dict_bpe_len=16693, smiles_len=72, smiles_bpe_len=15, smiles_dict_len=26, smiles_dict_bpe_len=23532, output_atv_fun='linear', dense_atv_fun=['gelu'], return_intermediate=False, loss_function='mean_squared_error', prot_transformer_depth=[3], smiles_transformer_depth=[3], cross_block_depth=[1], d_model=[128], prot_transformer_heads=[4], smiles_transformer_heads=[4], cross_block_heads=[4], prot_parameter_sharing=[''], prot_dim_k=[0], prot_full_attn=True, smiles_parameter_sharing='none', smiles_dim_k=0, smiles_full_attn=True, prot_ff_dim=[512], smiles_ff_dim=[512], dropout_rate=[0.1], out_mlp_depth=[3], out_mlp_hdim=[[512, 512, 512]], optimizer_fn=[['radam', '1e-04', '0.9', '0.999', '1e-08', '1e-05']], batch_dim=[32], num_epochs=[500], checkpoint_path='/content/drive/MyDrive/DTITR-main/checkpoints/16_07_23_18_10/', log_dir='/content/drive/MyDrive/DTITR-main/logs/16_07_23_18_10/')\n",
            "------------------------//------------------------\n",
            "2023-07-16 18:10:26.830684: I tensorflow/compiler/xla/stream_executor/cuda/cuda_gpu_executor.cc:996] successful NUMA node read from SysFS had negative value (-1), but there must be at least one NUMA node, so returning NUMA node zero. See more at https://github.com/torvalds/linux/blob/v6.0/Documentation/ABI/testing/sysfs-bus-pci#L344-L355\n",
            "2023-07-16 18:10:26.831072: I tensorflow/compiler/xla/stream_executor/cuda/cuda_gpu_executor.cc:996] successful NUMA node read from SysFS had negative value (-1), but there must be at least one NUMA node, so returning NUMA node zero. See more at https://github.com/torvalds/linux/blob/v6.0/Documentation/ABI/testing/sysfs-bus-pci#L344-L355\n",
            "2023-07-16 18:10:26.831297: I tensorflow/compiler/xla/stream_executor/cuda/cuda_gpu_executor.cc:996] successful NUMA node read from SysFS had negative value (-1), but there must be at least one NUMA node, so returning NUMA node zero. See more at https://github.com/torvalds/linux/blob/v6.0/Documentation/ABI/testing/sysfs-bus-pci#L344-L355\n",
            "2023-07-16 18:10:29.523468: I tensorflow/compiler/xla/stream_executor/cuda/cuda_gpu_executor.cc:996] successful NUMA node read from SysFS had negative value (-1), but there must be at least one NUMA node, so returning NUMA node zero. See more at https://github.com/torvalds/linux/blob/v6.0/Documentation/ABI/testing/sysfs-bus-pci#L344-L355\n",
            "2023-07-16 18:10:29.523855: I tensorflow/compiler/xla/stream_executor/cuda/cuda_gpu_executor.cc:996] successful NUMA node read from SysFS had negative value (-1), but there must be at least one NUMA node, so returning NUMA node zero. See more at https://github.com/torvalds/linux/blob/v6.0/Documentation/ABI/testing/sysfs-bus-pci#L344-L355\n",
            "2023-07-16 18:10:29.524094: I tensorflow/compiler/xla/stream_executor/cuda/cuda_gpu_executor.cc:996] successful NUMA node read from SysFS had negative value (-1), but there must be at least one NUMA node, so returning NUMA node zero. See more at https://github.com/torvalds/linux/blob/v6.0/Documentation/ABI/testing/sysfs-bus-pci#L344-L355\n",
            "2023-07-16 18:10:29.524256: I tensorflow/core/common_runtime/gpu/gpu_device.cc:1635] Created device /job:localhost/replica:0/task:0/device:GPU:0 with 13664 MB memory:  -> device: 0, name: Tesla T4, pci bus id: 0000:00:04.0, compute capability: 7.5\n",
            "Epoch 1/500\n",
            "760/760 - 211s - loss: 2.2109 - root_mean_squared_error: 1.4869 - c_index: 0.5527 - val_loss: 0.9875 - val_root_mean_squared_error: 0.9937 - val_c_index: 0.6776 - 211s/epoch - 277ms/step\n",
            "Epoch 2/500\n",
            "760/760 - 184s - loss: 0.7388 - root_mean_squared_error: 0.8595 - c_index: 0.6686 - val_loss: 0.6541 - val_root_mean_squared_error: 0.8088 - val_c_index: 0.7387 - 184s/epoch - 243ms/step\n",
            "Epoch 3/500\n",
            "760/760 - 193s - loss: 0.6176 - root_mean_squared_error: 0.7859 - c_index: 0.7342 - val_loss: 0.5658 - val_root_mean_squared_error: 0.7522 - val_c_index: 0.7813 - 193s/epoch - 254ms/step\n",
            "Epoch 4/500\n",
            "760/760 - 184s - loss: 0.5646 - root_mean_squared_error: 0.7514 - c_index: 0.7522 - val_loss: 0.5424 - val_root_mean_squared_error: 0.7365 - val_c_index: 0.8014 - 184s/epoch - 243ms/step\n",
            "Epoch 5/500\n",
            "760/760 - 193s - loss: 0.5372 - root_mean_squared_error: 0.7329 - c_index: 0.7620 - val_loss: 0.5321 - val_root_mean_squared_error: 0.7295 - val_c_index: 0.8033 - 193s/epoch - 254ms/step\n",
            "Epoch 6/500\n",
            "760/760 - 193s - loss: 0.5210 - root_mean_squared_error: 0.7218 - c_index: 0.7660 - val_loss: 0.4871 - val_root_mean_squared_error: 0.6979 - val_c_index: 0.8123 - 193s/epoch - 255ms/step\n",
            "Epoch 7/500\n",
            "760/760 - 193s - loss: 0.5102 - root_mean_squared_error: 0.7143 - c_index: 0.7757 - val_loss: 0.4881 - val_root_mean_squared_error: 0.6986 - val_c_index: 0.8138 - 193s/epoch - 253ms/step\n",
            "Epoch 8/500\n",
            "760/760 - 193s - loss: 0.4864 - root_mean_squared_error: 0.6974 - c_index: 0.7853 - val_loss: 0.5007 - val_root_mean_squared_error: 0.7076 - val_c_index: 0.7865 - 193s/epoch - 253ms/step\n",
            "Epoch 9/500\n",
            "760/760 - 193s - loss: 0.4448 - root_mean_squared_error: 0.6669 - c_index: 0.7936 - val_loss: 0.4523 - val_root_mean_squared_error: 0.6725 - val_c_index: 0.8272 - 193s/epoch - 254ms/step\n",
            "Epoch 10/500\n",
            "760/760 - 193s - loss: 0.4069 - root_mean_squared_error: 0.6379 - c_index: 0.8076 - val_loss: 0.4547 - val_root_mean_squared_error: 0.6743 - val_c_index: 0.8430 - 193s/epoch - 253ms/step\n",
            "Epoch 11/500\n",
            "760/760 - 192s - loss: 0.3827 - root_mean_squared_error: 0.6187 - c_index: 0.8149 - val_loss: 0.4549 - val_root_mean_squared_error: 0.6745 - val_c_index: 0.8363 - 192s/epoch - 253ms/step\n",
            "Epoch 12/500\n",
            "760/760 - 193s - loss: 0.3702 - root_mean_squared_error: 0.6084 - c_index: 0.8210 - val_loss: 0.3786 - val_root_mean_squared_error: 0.6153 - val_c_index: 0.8417 - 193s/epoch - 254ms/step\n",
            "Epoch 13/500\n",
            "760/760 - 193s - loss: 0.3481 - root_mean_squared_error: 0.5900 - c_index: 0.8293 - val_loss: 0.3854 - val_root_mean_squared_error: 0.6208 - val_c_index: 0.8581 - 193s/epoch - 254ms/step\n",
            "Epoch 14/500\n",
            "760/760 - 193s - loss: 0.3430 - root_mean_squared_error: 0.5856 - c_index: 0.8339 - val_loss: 0.3873 - val_root_mean_squared_error: 0.6223 - val_c_index: 0.8515 - 193s/epoch - 254ms/step\n",
            "Epoch 15/500\n",
            "760/760 - 194s - loss: 0.3248 - root_mean_squared_error: 0.5699 - c_index: 0.8410 - val_loss: 0.3656 - val_root_mean_squared_error: 0.6047 - val_c_index: 0.8621 - 194s/epoch - 255ms/step\n",
            "Epoch 16/500\n",
            "760/760 - 193s - loss: 0.3158 - root_mean_squared_error: 0.5619 - c_index: 0.8453 - val_loss: 0.3958 - val_root_mean_squared_error: 0.6291 - val_c_index: 0.8640 - 193s/epoch - 254ms/step\n",
            "Epoch 17/500\n",
            "760/760 - 194s - loss: 0.3070 - root_mean_squared_error: 0.5541 - c_index: 0.8512 - val_loss: 0.3420 - val_root_mean_squared_error: 0.5848 - val_c_index: 0.8752 - 194s/epoch - 255ms/step\n",
            "Epoch 18/500\n",
            "760/760 - 193s - loss: 0.2986 - root_mean_squared_error: 0.5465 - c_index: 0.8517 - val_loss: 0.3498 - val_root_mean_squared_error: 0.5914 - val_c_index: 0.8665 - 193s/epoch - 254ms/step\n",
            "Epoch 19/500\n",
            "760/760 - 193s - loss: 0.2885 - root_mean_squared_error: 0.5371 - c_index: 0.8548 - val_loss: 0.3326 - val_root_mean_squared_error: 0.5767 - val_c_index: 0.8732 - 193s/epoch - 254ms/step\n",
            "Epoch 20/500\n",
            "760/760 - 193s - loss: 0.2819 - root_mean_squared_error: 0.5310 - c_index: 0.8555 - val_loss: 0.3388 - val_root_mean_squared_error: 0.5820 - val_c_index: 0.8746 - 193s/epoch - 254ms/step\n",
            "Epoch 21/500\n",
            "760/760 - 194s - loss: 0.2799 - root_mean_squared_error: 0.5291 - c_index: 0.8544 - val_loss: 0.3194 - val_root_mean_squared_error: 0.5651 - val_c_index: 0.8754 - 194s/epoch - 255ms/step\n",
            "Epoch 22/500\n",
            "760/760 - 193s - loss: 0.2680 - root_mean_squared_error: 0.5177 - c_index: 0.8604 - val_loss: 0.3295 - val_root_mean_squared_error: 0.5741 - val_c_index: 0.8652 - 193s/epoch - 254ms/step\n",
            "Epoch 23/500\n",
            "760/760 - 184s - loss: 0.2640 - root_mean_squared_error: 0.5138 - c_index: 0.8584 - val_loss: 0.3317 - val_root_mean_squared_error: 0.5759 - val_c_index: 0.8783 - 184s/epoch - 242ms/step\n",
            "Epoch 24/500\n",
            "760/760 - 193s - loss: 0.2577 - root_mean_squared_error: 0.5076 - c_index: 0.8609 - val_loss: 0.3426 - val_root_mean_squared_error: 0.5853 - val_c_index: 0.8665 - 193s/epoch - 254ms/step\n",
            "Epoch 25/500\n",
            "760/760 - 194s - loss: 0.2527 - root_mean_squared_error: 0.5027 - c_index: 0.8651 - val_loss: 0.3188 - val_root_mean_squared_error: 0.5646 - val_c_index: 0.8758 - 194s/epoch - 255ms/step\n",
            "Epoch 26/500\n",
            "760/760 - 194s - loss: 0.2458 - root_mean_squared_error: 0.4958 - c_index: 0.8645 - val_loss: 0.3091 - val_root_mean_squared_error: 0.5560 - val_c_index: 0.8802 - 194s/epoch - 255ms/step\n",
            "Epoch 27/500\n",
            "760/760 - 193s - loss: 0.2398 - root_mean_squared_error: 0.4897 - c_index: 0.8664 - val_loss: 0.3147 - val_root_mean_squared_error: 0.5610 - val_c_index: 0.8808 - 193s/epoch - 254ms/step\n",
            "Epoch 28/500\n",
            "760/760 - 194s - loss: 0.2300 - root_mean_squared_error: 0.4796 - c_index: 0.8709 - val_loss: 0.3079 - val_root_mean_squared_error: 0.5549 - val_c_index: 0.8821 - 194s/epoch - 255ms/step\n",
            "Epoch 29/500\n",
            "760/760 - 194s - loss: 0.2279 - root_mean_squared_error: 0.4774 - c_index: 0.8711 - val_loss: 0.2934 - val_root_mean_squared_error: 0.5417 - val_c_index: 0.8834 - 194s/epoch - 255ms/step\n",
            "Epoch 30/500\n",
            "760/760 - 194s - loss: 0.2219 - root_mean_squared_error: 0.4711 - c_index: 0.8706 - val_loss: 0.2933 - val_root_mean_squared_error: 0.5415 - val_c_index: 0.8807 - 194s/epoch - 255ms/step\n",
            "Epoch 31/500\n",
            "760/760 - 193s - loss: 0.2180 - root_mean_squared_error: 0.4669 - c_index: 0.8748 - val_loss: 0.3061 - val_root_mean_squared_error: 0.5533 - val_c_index: 0.8824 - 193s/epoch - 254ms/step\n",
            "Epoch 32/500\n",
            "760/760 - 194s - loss: 0.2136 - root_mean_squared_error: 0.4622 - c_index: 0.8750 - val_loss: 0.2843 - val_root_mean_squared_error: 0.5332 - val_c_index: 0.8848 - 194s/epoch - 255ms/step\n",
            "Epoch 33/500\n",
            "760/760 - 193s - loss: 0.2090 - root_mean_squared_error: 0.4572 - c_index: 0.8737 - val_loss: 0.2873 - val_root_mean_squared_error: 0.5360 - val_c_index: 0.8803 - 193s/epoch - 254ms/step\n",
            "Epoch 34/500\n",
            "760/760 - 193s - loss: 0.2022 - root_mean_squared_error: 0.4497 - c_index: 0.8800 - val_loss: 0.3000 - val_root_mean_squared_error: 0.5477 - val_c_index: 0.8805 - 193s/epoch - 254ms/step\n",
            "Epoch 35/500\n",
            "760/760 - 193s - loss: 0.1970 - root_mean_squared_error: 0.4438 - c_index: 0.8813 - val_loss: 0.2870 - val_root_mean_squared_error: 0.5358 - val_c_index: 0.8919 - 193s/epoch - 254ms/step\n",
            "Epoch 36/500\n",
            "760/760 - 194s - loss: 0.1920 - root_mean_squared_error: 0.4381 - c_index: 0.8816 - val_loss: 0.2705 - val_root_mean_squared_error: 0.5201 - val_c_index: 0.8910 - 194s/epoch - 255ms/step\n",
            "Epoch 37/500\n",
            "760/760 - 194s - loss: 0.1862 - root_mean_squared_error: 0.4315 - c_index: 0.8823 - val_loss: 0.2623 - val_root_mean_squared_error: 0.5122 - val_c_index: 0.8914 - 194s/epoch - 255ms/step\n",
            "Epoch 38/500\n",
            "760/760 - 193s - loss: 0.1825 - root_mean_squared_error: 0.4272 - c_index: 0.8831 - val_loss: 0.2891 - val_root_mean_squared_error: 0.5376 - val_c_index: 0.8911 - 193s/epoch - 254ms/step\n",
            "Epoch 39/500\n",
            "760/760 - 193s - loss: 0.1809 - root_mean_squared_error: 0.4253 - c_index: 0.8854 - val_loss: 0.2681 - val_root_mean_squared_error: 0.5178 - val_c_index: 0.8811 - 193s/epoch - 254ms/step\n",
            "Epoch 40/500\n",
            "760/760 - 193s - loss: 0.1762 - root_mean_squared_error: 0.4198 - c_index: 0.8851 - val_loss: 0.3007 - val_root_mean_squared_error: 0.5484 - val_c_index: 0.8887 - 193s/epoch - 254ms/step\n",
            "Epoch 41/500\n",
            "760/760 - 184s - loss: 0.1693 - root_mean_squared_error: 0.4115 - c_index: 0.8905 - val_loss: 0.2659 - val_root_mean_squared_error: 0.5156 - val_c_index: 0.8913 - 184s/epoch - 243ms/step\n",
            "Epoch 42/500\n",
            "760/760 - 185s - loss: 0.1679 - root_mean_squared_error: 0.4098 - c_index: 0.8881 - val_loss: 0.2513 - val_root_mean_squared_error: 0.5013 - val_c_index: 0.8915 - 185s/epoch - 244ms/step\n",
            "Epoch 43/500\n",
            "760/760 - 193s - loss: 0.1648 - root_mean_squared_error: 0.4059 - c_index: 0.8899 - val_loss: 0.2546 - val_root_mean_squared_error: 0.5045 - val_c_index: 0.8845 - 193s/epoch - 254ms/step\n",
            "Epoch 44/500\n",
            "760/760 - 193s - loss: 0.1558 - root_mean_squared_error: 0.3948 - c_index: 0.8956 - val_loss: 0.2516 - val_root_mean_squared_error: 0.5016 - val_c_index: 0.8972 - 193s/epoch - 254ms/step\n",
            "Epoch 45/500\n",
            "760/760 - 193s - loss: 0.1554 - root_mean_squared_error: 0.3942 - c_index: 0.8947 - val_loss: 0.2698 - val_root_mean_squared_error: 0.5194 - val_c_index: 0.8929 - 193s/epoch - 254ms/step\n",
            "Epoch 46/500\n",
            "760/760 - 193s - loss: 0.1524 - root_mean_squared_error: 0.3903 - c_index: 0.8972 - val_loss: 0.2921 - val_root_mean_squared_error: 0.5404 - val_c_index: 0.8938 - 193s/epoch - 254ms/step\n",
            "Epoch 47/500\n",
            "760/760 - 194s - loss: 0.1499 - root_mean_squared_error: 0.3871 - c_index: 0.8957 - val_loss: 0.2450 - val_root_mean_squared_error: 0.4950 - val_c_index: 0.8938 - 194s/epoch - 255ms/step\n",
            "Epoch 48/500\n",
            "760/760 - 194s - loss: 0.1457 - root_mean_squared_error: 0.3817 - c_index: 0.8954 - val_loss: 0.2410 - val_root_mean_squared_error: 0.4909 - val_c_index: 0.8943 - 194s/epoch - 255ms/step\n",
            "Epoch 49/500\n",
            "760/760 - 193s - loss: 0.1438 - root_mean_squared_error: 0.3792 - c_index: 0.8989 - val_loss: 0.2571 - val_root_mean_squared_error: 0.5071 - val_c_index: 0.8945 - 193s/epoch - 254ms/step\n",
            "Epoch 50/500\n",
            "760/760 - 193s - loss: 0.1394 - root_mean_squared_error: 0.3734 - c_index: 0.9009 - val_loss: 0.2514 - val_root_mean_squared_error: 0.5014 - val_c_index: 0.8970 - 193s/epoch - 254ms/step\n",
            "Epoch 51/500\n",
            "760/760 - 193s - loss: 0.1359 - root_mean_squared_error: 0.3687 - c_index: 0.8978 - val_loss: 0.2473 - val_root_mean_squared_error: 0.4973 - val_c_index: 0.8988 - 193s/epoch - 254ms/step\n",
            "Epoch 52/500\n",
            "760/760 - 193s - loss: 0.1330 - root_mean_squared_error: 0.3647 - c_index: 0.9008 - val_loss: 0.2414 - val_root_mean_squared_error: 0.4914 - val_c_index: 0.9042 - 193s/epoch - 254ms/step\n",
            "Epoch 53/500\n",
            "760/760 - 184s - loss: 0.1308 - root_mean_squared_error: 0.3616 - c_index: 0.9018 - val_loss: 0.2546 - val_root_mean_squared_error: 0.5046 - val_c_index: 0.8970 - 184s/epoch - 243ms/step\n",
            "Epoch 54/500\n",
            "760/760 - 194s - loss: 0.1256 - root_mean_squared_error: 0.3544 - c_index: 0.9035 - val_loss: 0.2303 - val_root_mean_squared_error: 0.4799 - val_c_index: 0.9042 - 194s/epoch - 255ms/step\n",
            "Epoch 55/500\n",
            "760/760 - 184s - loss: 0.1260 - root_mean_squared_error: 0.3550 - c_index: 0.9049 - val_loss: 0.2487 - val_root_mean_squared_error: 0.4987 - val_c_index: 0.9013 - 184s/epoch - 243ms/step\n",
            "Epoch 56/500\n",
            "760/760 - 194s - loss: 0.1185 - root_mean_squared_error: 0.3443 - c_index: 0.9055 - val_loss: 0.2267 - val_root_mean_squared_error: 0.4762 - val_c_index: 0.8989 - 194s/epoch - 255ms/step\n",
            "Epoch 57/500\n",
            "760/760 - 193s - loss: 0.1197 - root_mean_squared_error: 0.3460 - c_index: 0.9055 - val_loss: 0.2529 - val_root_mean_squared_error: 0.5029 - val_c_index: 0.9010 - 193s/epoch - 254ms/step\n",
            "Epoch 58/500\n",
            "760/760 - 193s - loss: 0.1156 - root_mean_squared_error: 0.3400 - c_index: 0.9085 - val_loss: 0.2271 - val_root_mean_squared_error: 0.4765 - val_c_index: 0.9017 - 193s/epoch - 254ms/step\n",
            "Epoch 59/500\n",
            "760/760 - 184s - loss: 0.1157 - root_mean_squared_error: 0.3402 - c_index: 0.9083 - val_loss: 0.2489 - val_root_mean_squared_error: 0.4989 - val_c_index: 0.9060 - 184s/epoch - 243ms/step\n",
            "Epoch 60/500\n",
            "760/760 - 193s - loss: 0.1155 - root_mean_squared_error: 0.3398 - c_index: 0.9109 - val_loss: 0.2323 - val_root_mean_squared_error: 0.4819 - val_c_index: 0.9002 - 193s/epoch - 254ms/step\n",
            "Epoch 61/500\n",
            "760/760 - 193s - loss: 0.1077 - root_mean_squared_error: 0.3281 - c_index: 0.9097 - val_loss: 0.2556 - val_root_mean_squared_error: 0.5056 - val_c_index: 0.9003 - 193s/epoch - 254ms/step\n",
            "Epoch 62/500\n",
            "760/760 - 194s - loss: 0.1059 - root_mean_squared_error: 0.3255 - c_index: 0.9120 - val_loss: 0.2265 - val_root_mean_squared_error: 0.4759 - val_c_index: 0.8980 - 194s/epoch - 255ms/step\n",
            "Epoch 63/500\n",
            "760/760 - 193s - loss: 0.1040 - root_mean_squared_error: 0.3225 - c_index: 0.9098 - val_loss: 0.2355 - val_root_mean_squared_error: 0.4853 - val_c_index: 0.9045 - 193s/epoch - 254ms/step\n",
            "Epoch 64/500\n",
            "760/760 - 193s - loss: 0.1034 - root_mean_squared_error: 0.3216 - c_index: 0.9123 - val_loss: 0.2350 - val_root_mean_squared_error: 0.4848 - val_c_index: 0.9019 - 193s/epoch - 254ms/step\n",
            "Epoch 65/500\n",
            "760/760 - 193s - loss: 0.0970 - root_mean_squared_error: 0.3115 - c_index: 0.9149 - val_loss: 0.2498 - val_root_mean_squared_error: 0.4998 - val_c_index: 0.9028 - 193s/epoch - 254ms/step\n",
            "Epoch 66/500\n",
            "760/760 - 193s - loss: 0.0971 - root_mean_squared_error: 0.3117 - c_index: 0.9142 - val_loss: 0.2264 - val_root_mean_squared_error: 0.4758 - val_c_index: 0.9055 - 193s/epoch - 254ms/step\n",
            "Epoch 67/500\n",
            "760/760 - 193s - loss: 0.0990 - root_mean_squared_error: 0.3146 - c_index: 0.9157 - val_loss: 0.2266 - val_root_mean_squared_error: 0.4761 - val_c_index: 0.9079 - 193s/epoch - 254ms/step\n",
            "Epoch 68/500\n",
            "760/760 - 185s - loss: 0.0980 - root_mean_squared_error: 0.3131 - c_index: 0.9174 - val_loss: 0.2204 - val_root_mean_squared_error: 0.4695 - val_c_index: 0.9101 - 185s/epoch - 243ms/step\n",
            "Epoch 69/500\n",
            "760/760 - 193s - loss: 0.0944 - root_mean_squared_error: 0.3072 - c_index: 0.9193 - val_loss: 0.2304 - val_root_mean_squared_error: 0.4800 - val_c_index: 0.9048 - 193s/epoch - 254ms/step\n",
            "Epoch 70/500\n",
            "760/760 - 193s - loss: 0.0935 - root_mean_squared_error: 0.3057 - c_index: 0.9166 - val_loss: 0.2325 - val_root_mean_squared_error: 0.4822 - val_c_index: 0.9020 - 193s/epoch - 254ms/step\n",
            "Epoch 71/500\n",
            "760/760 - 193s - loss: 0.0894 - root_mean_squared_error: 0.2990 - c_index: 0.9214 - val_loss: 0.2459 - val_root_mean_squared_error: 0.4959 - val_c_index: 0.9003 - 193s/epoch - 254ms/step\n",
            "Epoch 72/500\n",
            "760/760 - 193s - loss: 0.0934 - root_mean_squared_error: 0.3056 - c_index: 0.9184 - val_loss: 0.2300 - val_root_mean_squared_error: 0.4796 - val_c_index: 0.9063 - 193s/epoch - 254ms/step\n",
            "Epoch 73/500\n",
            "760/760 - 194s - loss: 0.0896 - root_mean_squared_error: 0.2994 - c_index: 0.9196 - val_loss: 0.2169 - val_root_mean_squared_error: 0.4657 - val_c_index: 0.9090 - 194s/epoch - 255ms/step\n",
            "Epoch 74/500\n",
            "760/760 - 193s - loss: 0.0840 - root_mean_squared_error: 0.2898 - c_index: 0.9214 - val_loss: 0.2222 - val_root_mean_squared_error: 0.4713 - val_c_index: 0.9046 - 193s/epoch - 254ms/step\n",
            "Epoch 75/500\n",
            "760/760 - 193s - loss: 0.0834 - root_mean_squared_error: 0.2887 - c_index: 0.9253 - val_loss: 0.2249 - val_root_mean_squared_error: 0.4742 - val_c_index: 0.9085 - 193s/epoch - 254ms/step\n",
            "Epoch 76/500\n",
            "760/760 - 193s - loss: 0.0830 - root_mean_squared_error: 0.2881 - c_index: 0.9256 - val_loss: 0.2212 - val_root_mean_squared_error: 0.4703 - val_c_index: 0.9072 - 193s/epoch - 254ms/step\n",
            "Epoch 77/500\n",
            "760/760 - 193s - loss: 0.0810 - root_mean_squared_error: 0.2845 - c_index: 0.9227 - val_loss: 0.2246 - val_root_mean_squared_error: 0.4739 - val_c_index: 0.9061 - 193s/epoch - 254ms/step\n",
            "Epoch 78/500\n",
            "760/760 - 184s - loss: 0.0819 - root_mean_squared_error: 0.2862 - c_index: 0.9235 - val_loss: 0.2227 - val_root_mean_squared_error: 0.4719 - val_c_index: 0.9040 - 184s/epoch - 242ms/step\n",
            "Epoch 79/500\n",
            "760/760 - 193s - loss: 0.0788 - root_mean_squared_error: 0.2807 - c_index: 0.9238 - val_loss: 0.2177 - val_root_mean_squared_error: 0.4666 - val_c_index: 0.9058 - 193s/epoch - 254ms/step\n",
            "Epoch 80/500\n",
            "760/760 - 193s - loss: 0.0800 - root_mean_squared_error: 0.2829 - c_index: 0.9250 - val_loss: 0.2248 - val_root_mean_squared_error: 0.4741 - val_c_index: 0.9094 - 193s/epoch - 254ms/step\n",
            "Epoch 81/500\n",
            "760/760 - 193s - loss: 0.0759 - root_mean_squared_error: 0.2756 - c_index: 0.9264 - val_loss: 0.2162 - val_root_mean_squared_error: 0.4650 - val_c_index: 0.9037 - 193s/epoch - 254ms/step\n",
            "Epoch 82/500\n",
            "760/760 - 193s - loss: 0.0754 - root_mean_squared_error: 0.2745 - c_index: 0.9289 - val_loss: 0.2141 - val_root_mean_squared_error: 0.4627 - val_c_index: 0.9087 - 193s/epoch - 254ms/step\n",
            "Epoch 83/500\n",
            "760/760 - 184s - loss: 0.0759 - root_mean_squared_error: 0.2755 - c_index: 0.9275 - val_loss: 0.2227 - val_root_mean_squared_error: 0.4719 - val_c_index: 0.9093 - 184s/epoch - 242ms/step\n",
            "Epoch 84/500\n",
            "760/760 - 193s - loss: 0.0744 - root_mean_squared_error: 0.2728 - c_index: 0.9271 - val_loss: 0.2295 - val_root_mean_squared_error: 0.4790 - val_c_index: 0.9071 - 193s/epoch - 254ms/step\n",
            "Epoch 85/500\n",
            "760/760 - 185s - loss: 0.0728 - root_mean_squared_error: 0.2698 - c_index: 0.9297 - val_loss: 0.2099 - val_root_mean_squared_error: 0.4581 - val_c_index: 0.9133 - 185s/epoch - 244ms/step\n",
            "Epoch 86/500\n",
            "760/760 - 184s - loss: 0.0704 - root_mean_squared_error: 0.2653 - c_index: 0.9287 - val_loss: 0.2244 - val_root_mean_squared_error: 0.4737 - val_c_index: 0.9112 - 184s/epoch - 242ms/step\n",
            "Epoch 87/500\n",
            "760/760 - 193s - loss: 0.0768 - root_mean_squared_error: 0.2772 - c_index: 0.9287 - val_loss: 0.2160 - val_root_mean_squared_error: 0.4647 - val_c_index: 0.9126 - 193s/epoch - 253ms/step\n",
            "Epoch 88/500\n",
            "760/760 - 193s - loss: 0.0703 - root_mean_squared_error: 0.2652 - c_index: 0.9290 - val_loss: 0.2282 - val_root_mean_squared_error: 0.4778 - val_c_index: 0.9017 - 193s/epoch - 253ms/step\n",
            "Epoch 89/500\n",
            "760/760 - 193s - loss: 0.0682 - root_mean_squared_error: 0.2611 - c_index: 0.9318 - val_loss: 0.2255 - val_root_mean_squared_error: 0.4748 - val_c_index: 0.9132 - 193s/epoch - 253ms/step\n",
            "Epoch 90/500\n",
            "760/760 - 193s - loss: 0.0675 - root_mean_squared_error: 0.2599 - c_index: 0.9348 - val_loss: 0.2261 - val_root_mean_squared_error: 0.4755 - val_c_index: 0.9079 - 193s/epoch - 254ms/step\n",
            "Epoch 91/500\n",
            "760/760 - 193s - loss: 0.0684 - root_mean_squared_error: 0.2615 - c_index: 0.9312 - val_loss: 0.2386 - val_root_mean_squared_error: 0.4885 - val_c_index: 0.9044 - 193s/epoch - 253ms/step\n",
            "Epoch 92/500\n",
            "760/760 - 193s - loss: 0.0697 - root_mean_squared_error: 0.2641 - c_index: 0.9312 - val_loss: 0.2065 - val_root_mean_squared_error: 0.4544 - val_c_index: 0.9044 - 193s/epoch - 254ms/step\n",
            "Epoch 93/500\n",
            "760/760 - 193s - loss: 0.0671 - root_mean_squared_error: 0.2591 - c_index: 0.9309 - val_loss: 0.2207 - val_root_mean_squared_error: 0.4698 - val_c_index: 0.9059 - 193s/epoch - 254ms/step\n",
            "Epoch 94/500\n",
            "760/760 - 193s - loss: 0.0680 - root_mean_squared_error: 0.2609 - c_index: 0.9331 - val_loss: 0.2101 - val_root_mean_squared_error: 0.4584 - val_c_index: 0.9069 - 193s/epoch - 254ms/step\n",
            "Epoch 95/500\n",
            "760/760 - 193s - loss: 0.0619 - root_mean_squared_error: 0.2488 - c_index: 0.9374 - val_loss: 0.2092 - val_root_mean_squared_error: 0.4574 - val_c_index: 0.8983 - 193s/epoch - 253ms/step\n",
            "Epoch 96/500\n",
            "760/760 - 193s - loss: 0.0636 - root_mean_squared_error: 0.2521 - c_index: 0.9357 - val_loss: 0.2094 - val_root_mean_squared_error: 0.4576 - val_c_index: 0.9078 - 193s/epoch - 254ms/step\n",
            "Epoch 97/500\n"
          ]
        }
      ]
    },
    {
      "cell_type": "code",
      "source": [],
      "metadata": {
        "id": "JpfaoqFyFNQ3"
      },
      "execution_count": null,
      "outputs": []
    }
  ]
}